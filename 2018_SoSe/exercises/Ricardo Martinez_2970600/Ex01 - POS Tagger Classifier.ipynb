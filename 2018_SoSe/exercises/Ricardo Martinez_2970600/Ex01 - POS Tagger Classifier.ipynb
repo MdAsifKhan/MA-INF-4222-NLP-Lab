{
 "cells": [
  {
   "cell_type": "markdown",
   "metadata": {},
   "source": [
    "# Imports"
   ]
  },
  {
   "cell_type": "code",
   "execution_count": 26,
   "metadata": {},
   "outputs": [],
   "source": [
    "import nltk\n",
    "#from nltk import word_tokenize, pos_tag\n",
    "\n",
    "#for viewing\n",
    "from IPython.core.interactiveshell import InteractiveShell\n",
    "InteractiveShell.ast_node_interactivity = 'all'"
   ]
  },
  {
   "cell_type": "markdown",
   "metadata": {},
   "source": [
    "# NLTK Exploratory Code"
   ]
  },
  {
   "cell_type": "code",
   "execution_count": 27,
   "metadata": {},
   "outputs": [
    {
     "name": "stdout",
     "output_type": "stream",
     "text": [
      "NLTK Tags:\n",
      "-----\n",
      "('The', 'DT')\n",
      "('gorgeous', 'JJ')\n",
      "('April', 'NNP')\n",
      "('spring', 'NN')\n",
      "('devolved', 'VBD')\n",
      "('into', 'IN')\n",
      "('a', 'DT')\n",
      "('sombre', 'NN')\n",
      "('May', 'NNP')\n"
     ]
    }
   ],
   "source": [
    "string = \"The gorgeous April spring devolved into a sombre May\"\n",
    "tokens = nltk.word_tokenize(string)\n",
    "\n",
    "token_tags = nltk.pos_tag(tokens)\n",
    "print(\"NLTK Tags:\\n-----\")\n",
    "for tag in token_tags:\n",
    "    print(tag)"
   ]
  },
  {
   "cell_type": "markdown",
   "metadata": {},
   "source": [
    "# Model 1\n",
    "\n",
    "    Own POS tagger: Trained using the Penn Treebank Project corpus.\n",
    "\n",
    "#### Feature Definitions, Classifier Training & Testing"
   ]
  },
  {
   "cell_type": "code",
   "execution_count": 28,
   "metadata": {},
   "outputs": [],
   "source": [
    "def features(token, idx):\n",
    "    \"\"\"The function takes in a token which is then\n",
    "    subjected to some rules to extract features\"\"\"\n",
    "\n",
    "    #print(tokens)\n",
    "    \n",
    "    #special character set for \"has_special\" feature\n",
    "    chars = set(\"\"\"!$%^&*_+|~-=`'{}()[]:\";<>?,./\"\"\")\n",
    "    \n",
    "    features = {\n",
    "        'word': token[idx],\n",
    "        'is_capitalized': token[idx][0].isupper(),\n",
    "        'is_all_lowercase': token[idx].islower(),\n",
    "        'prefix-1': token[idx][0],\n",
    "        'prefix-2': '' if len(token[idx]) < 2 else token[idx][1],\n",
    "        'prefix-3': '' if len(token[idx]) < 3 else token[idx][2],\n",
    "        'suffix-1': token[idx][-1],\n",
    "        'suffix-2': '' if len(token[idx]) < 2 else token[idx][-2],\n",
    "        'suffix-3': '' if len(token[idx]) < 3 else token[idx][-3],\n",
    "        'prev_word': '' if idx == 0 else token[idx -1],\n",
    "        'next_word': '' if idx == len(token) -1 else token[idx+1],\n",
    "        'word_length': len(token[idx]),\n",
    "        'only_numeric': token[idx].isnumeric(),\n",
    "        'is_alphanumeric': token[idx].isalnum(),\n",
    "        'is_camelCase': not token[idx][1:].islower(),\n",
    "        'is_call_caps': token[idx].isupper(),\n",
    "        'is_special': any([i for i in chars]) in [i for i in token[idx]],\n",
    "        'has_hyphen': '-' in token[idx],\n",
    "        'is_first_word': idx == 0,\n",
    "        #'word_position': idx + 1,\n",
    "        'is_last_word': idx == len(token) - 1\n",
    "    }\n",
    "    \n",
    "    return features"
   ]
  },
  {
   "cell_type": "code",
   "execution_count": 29,
   "metadata": {},
   "outputs": [],
   "source": [
    "def untag(tagged):\n",
    "    \"\"\"Helper function to strip the tags from a tagged corpus, the resultant\n",
    "    is the list of tokens from the original 'tagged sentences' \"\"\"\n",
    "    \n",
    "    tokens = [w for w, t in tagged]\n",
    "    \n",
    "    return tokens"
   ]
  },
  {
   "cell_type": "code",
   "execution_count": 30,
   "metadata": {},
   "outputs": [],
   "source": [
    "#Penn Treebank corpus POS Tagger training\n",
    "penn_taggs = nltk.corpus.treebank.tagged_sents()\n",
    "\n",
    "#Penn training and testing sets, 80/20 split\n",
    "size_penn = int(.8 * len(penn_taggs))\n",
    "penn_train_sents = penn_taggs[:size_penn]\n",
    "penn_test_sents = penn_taggs[size_penn:]\n",
    "\n",
    "\n",
    "#Brown corpus POS Tagger training and testing\n",
    "brwn_taggs = nltk.corpus.brown.tagged_sents()\n",
    "\n",
    "#Brown training and testing sets, 80/20 split\n",
    "size_brwn = int(0.8 * len(brwn_taggs))\n",
    "brwn_train_sents = brwn_taggs[:size_brwn]\n",
    "brwn_test_sents = brwn_taggs[:size_brwn]\n",
    "\n",
    "def transform_to_dataset(tagged_sentences):\n",
    "    \"\"\"Transforms the training sentences set into signal X\n",
    "    (features vector) and response y (tags vector) which\n",
    "    will then be used to train & test the classifier.\"\"\"\n",
    "    \n",
    "    X, y = [], []\n",
    "    \n",
    "    for tagged in tagged_sentences:\n",
    "        for idx in range(len(tagged)):\n",
    "            \n",
    "            X.append(features(untag(tagged), idx))\n",
    "            y.append(tagged[idx][1])\n",
    " \n",
    "    return X, y\n",
    " \n",
    "#Vectors which will be used to train Own POS Tagger\n",
    "#Penn Training vectors\n",
    "X_penn, y_penn = transform_to_dataset(penn_train_sents)\n",
    "#Brown Training vectors\n",
    "X_brwn, y_brwn = transform_to_dataset(brwn_train_sents)\n",
    "\n",
    "#Testing Vectors\n",
    "#Penn testing vectors\n",
    "X_penn_test, y_penn_test = transform_to_dataset(penn_test_sents)\n",
    "#Brown testing vectors[]\n",
    "X_brwn_test, y_brwn_test = transform_to_dataset(brwn_test_sents)"
   ]
  },
  {
   "cell_type": "code",
   "execution_count": 31,
   "metadata": {},
   "outputs": [
    {
     "name": "stdout",
     "output_type": "stream",
     "text": [
      "training...\n"
     ]
    },
    {
     "data": {
      "text/plain": [
       "Pipeline(memory=None,\n",
       "     steps=[('vectorizer', DictVectorizer(dtype=<class 'numpy.float64'>, separator='=', sort=True,\n",
       "        sparse=False)), ('classifier', DecisionTreeClassifier(class_weight=None, criterion='entropy', max_depth=None,\n",
       "            max_features=None, max_leaf_nodes=None,\n",
       "            min_impurity_decrease=0.0, min_impurity_split=None,\n",
       "            min_samples_leaf=1, min_samples_split=2,\n",
       "            min_weight_fraction_leaf=0.0, presort=False, random_state=None,\n",
       "            splitter='best'))])"
      ]
     },
     "execution_count": 31,
     "metadata": {},
     "output_type": "execute_result"
    },
    {
     "data": {
      "text/plain": [
       "Pipeline(memory=None,\n",
       "     steps=[('vectorizer', DictVectorizer(dtype=<class 'numpy.float64'>, separator='=', sort=True,\n",
       "        sparse=False)), ('classifier', DecisionTreeClassifier(class_weight=None, criterion='entropy', max_depth=None,\n",
       "            max_features=None, max_leaf_nodes=None,\n",
       "            min_impurity_decrease=0.0, min_impurity_split=None,\n",
       "            min_samples_leaf=1, min_samples_split=2,\n",
       "            min_weight_fraction_leaf=0.0, presort=False, random_state=None,\n",
       "            splitter='best'))])"
      ]
     },
     "execution_count": 31,
     "metadata": {},
     "output_type": "execute_result"
    },
    {
     "name": "stdout",
     "output_type": "stream",
     "text": [
      "Trainings complete!\n"
     ]
    }
   ],
   "source": [
    "from sklearn.tree import DecisionTreeClassifier\n",
    "from sklearn.feature_extraction import DictVectorizer\n",
    "import sklearn.pipeline as skpip\n",
    "\n",
    "#DecisionTree bbjects which handle the training (i.e. fitting)\n",
    "penn_clf =  skpip.Pipeline([('vectorizer', DictVectorizer(sparse=False)),\n",
    "                       ('classifier', DecisionTreeClassifier(criterion='entropy'))])\n",
    "\n",
    "brwn_clf = skpip.Pipeline([('vectorizer', DictVectorizer(sparse=False)),\n",
    "                       ('classifier', DecisionTreeClassifier(criterion='entropy'))])\n",
    "\n",
    "print(\"training...\")\n",
    "#Penn Treebank traning, only a portion is used for speed purposes\n",
    "fit_size = 15000\n",
    "penn_clf.fit(X_penn[:fit_size], y_penn[:fit_size])\n",
    "\n",
    "#Brwon corpus training...\n",
    "brwn_clf.fit(X_brwn[:fit_size], y_brwn[:fit_size])\n",
    "print(\"Trainings complete!\")\n",
    "\n"
   ]
  },
  {
   "cell_type": "code",
   "execution_count": 32,
   "metadata": {},
   "outputs": [
    {
     "name": "stdout",
     "output_type": "stream",
     "text": [
      "Own Model on Penn Score:  0.9134\n",
      "Own Model on Brown Score:  0.9997\n"
     ]
    }
   ],
   "source": [
    "#List to keep track of the scores\n",
    "scores_list = []\n",
    "\n",
    "#Kept getting MemoryError so evaluations will be done with a smaller sample\n",
    "eval_size = 10000\n",
    "\n",
    "#evaluation of Own POS Tagger ------------------------------------- Task 1.1 \n",
    "own_score_penn = penn_clf.score(X_penn_test[:eval_size], y_penn_test[:eval_size])\n",
    "\n",
    "#evaluation of Own POS Tagger ------------------------------------- Task 1.4\n",
    "own_score_brwn = brwn_clf.score(X_brwn_test[:eval_size], y_brwn_test[:eval_size])\n",
    "\n",
    "scores_list.append((\"Task 1.1\", own_score_penn))\n",
    "scores_list.append((\"Task 1.4\", own_score_brwn))\n",
    "\n",
    "print(\"Own Model on Penn Score: \", own_score_penn)\n",
    "print(\"Own Model on Brown Score: \", own_score_brwn)"
   ]
  },
  {
   "cell_type": "markdown",
   "metadata": {},
   "source": [
    "#### Comparison of Own and NLTK POS Classifiers"
   ]
  },
  {
   "cell_type": "code",
   "execution_count": 33,
   "metadata": {},
   "outputs": [
    {
     "name": "stdout",
     "output_type": "stream",
     "text": [
      "...tagging...\n",
      "\n",
      "\n",
      "------OWN--------\n",
      "\n",
      "('The', 'AT')\n",
      "('gorgeous', 'JJ')\n",
      "('April', 'NP')\n",
      "('spring', 'VBG')\n",
      "('devolved', 'VBD')\n",
      "('into', 'IN')\n",
      "('a', 'AT')\n",
      "('sombre', 'NN')\n",
      "('May', 'NP')\n",
      "\n",
      "------NLTK--------\n",
      "\n",
      "('The', 'DT')\n",
      "('gorgeous', 'JJ')\n",
      "('April', 'NNP')\n",
      "('spring', 'NN')\n",
      "('devolved', 'VBD')\n",
      "('into', 'IN')\n",
      "('a', 'DT')\n",
      "('sombre', 'NN')\n",
      "('May', 'NNP')\n"
     ]
    }
   ],
   "source": [
    "def own_pos_tagger(sentence):\n",
    "    \"\"\"This function uses the classifier 'clf' trained with Penn Treebank\n",
    "    and our feature vector\"\"\"\n",
    "    \n",
    "    print('...tagging...\\n')\n",
    "    tagged_sentence = []\n",
    "    tags = brwn_clf.predict([features(sentence, index) for index in range(len(sentence))])\n",
    "    \n",
    "    return zip(sentence, tags)\n",
    "\n",
    "string = \"The gorgeous April spring devolved into a sombre May\"\n",
    "tokens = nltk.word_tokenize(string)\n",
    "\n",
    "#print out of Own POS tagger at work\n",
    "own_tags = own_pos_tagger(tokens)\n",
    "print(\"\\n------OWN--------\\n\")\n",
    "for tag in own_tags:\n",
    "    print(tag)\n",
    "\n",
    "print(\"\\n------NLTK--------\\n\")\n",
    "\n",
    "#print out of nltk POS tagger\n",
    "token_tags = nltk.pos_tag(tokens)\n",
    "\n",
    "for tag in token_tags:\n",
    "    print(tag)"
   ]
  },
  {
   "cell_type": "markdown",
   "metadata": {},
   "source": [
    "# Model 2\n",
    "\n",
    "    MaxEntropy Classifier: An NLKT pre-trained POS tagger"
   ]
  },
  {
   "cell_type": "code",
   "execution_count": 34,
   "metadata": {},
   "outputs": [],
   "source": [
    "#First the pre-trained (on Penn Treebank) maxent pos tagger is downloaded for use\n",
    "    #nltk.download('maxent_treebank_pos_tagger')\n",
    "    \n",
    "#The pickle file holding the maxentropy trained model is loaded and is ready for use\n",
    "pretrained_tagger = nltk.data.load('taggers/maxent_treebank_pos_tagger/english.pickle')\n",
    "\n",
    "#the trained_classifier is fed with already tagged sentences (penn, brown, etc.)\n",
    "#in the background it strips the tokens from its tags and use its own pre-trained \n",
    "#model to re-tag them, lastly it scores the new tags against the originals \n",
    "\n",
    "#Tagged sentences for the trainings\n",
    "penn_taggs = nltk.corpus.treebank.tagged_sents()\n",
    "brwn_taggs = nltk.corpus.brown.tagged_sents()\n",
    "\n",
    "#evaluation of pre_trained tagger PENN------------------------------------- Task 1.2\n",
    "penn_pt_score = pretrained_tagger.evaluate(penn_taggs[:1000])\n",
    "scores_list.append((\"Task 1.2\", penn_pt_score))\n",
    "\n",
    "#evaluation of pre-trained tagger BROWN ----------------------------------- Task 1.5\n",
    "brwn_pt_score = pretrained_tagger.evaluate(brwn_taggs[:1000])\n",
    "scores_list.append((\"Task 1.5\", brwn_pt_score))"
   ]
  },
  {
   "cell_type": "markdown",
   "metadata": {},
   "source": [
    "# Model 3\n",
    "    Trigram: An NLTK rule-based POS tagger\n",
    "\n",
    "#### Training"
   ]
  },
  {
   "cell_type": "code",
   "execution_count": 35,
   "metadata": {},
   "outputs": [],
   "source": [
    "#The tagged sentences used in this training were previsouly \n",
    "#initialized under the Model 2 cell as:\n",
    "    #penn_taggs & brwn_taggs\n",
    "\n",
    "#This code aims to train the TrigramTagger model using the Penn Treebank \n",
    "#and Brown corpora. The training sizes are established below. 80/20 split.\n",
    "penn_size = int(len(penn_taggs)*0.8)\n",
    "brwn_size = int(len(brwn_taggs)*0.8)\n",
    "\n",
    "#penn treebank training and testing sets\n",
    "penn_train_sents = penn_taggs[:penn_size]\n",
    "penn_test_sents = penn_taggs[penn_size:]\n",
    "\n",
    "#brown corpus training and testing sets\n",
    "brwn_train_sents = brwn_taggs[:brwn_size]\n",
    "brwn_test_sents = brwn_taggs[brwn_size:]\n",
    "\n",
    "#Trigram training with Penn Treebank, Brown Corpus\n",
    "penn_trigram_model = nltk.TrigramTagger(train = penn_train_sents)\n",
    "brwn_trigram_model = nltk.TrigramTagger(train = brwn_train_sents)\n",
    "\n",
    "#Bigram training with Penn Treebank, Brown Corpus\n",
    "penn_bigram_model = nltk.BigramTagger(train = penn_train_sents)\n",
    "brwn_bigram_model = nltk.BigramTagger(train = brwn_train_sents)\n",
    "\n",
    "#Unigram training with Penn Treebank, Brown Corpus\n",
    "penn_unigram_model = nltk.UnigramTagger(train = penn_train_sents)\n",
    "brwn_unigram_model = nltk.UnigramTagger(train = brwn_train_sents)\n",
    "\n",
    "#Default Tagger, tags everything with the same tag\n",
    "default_tagg_model = nltk.DefaultTagger('NN')\n",
    "\n",
    "#Regex Tagger, recognizes certain patterns and then tags them accordingly\n",
    "patterns = [(r'.*ing$', 'VBG'), (r'.*ed$', 'VBD'), (r'.*es$', 'VBZ'), \n",
    "            (r'.*ould$', 'MD'), (r'.*\\'s$', 'NN$'), (r'.*s$', 'NNS'), \n",
    "            (r'^-?[0-9]+(.[0-9]+)?$', 'CD'), (r'.*', 'NN')]\n",
    "\n",
    "regexp_taggs_model = nltk.RegexpTagger(patterns)"
   ]
  },
  {
   "cell_type": "markdown",
   "metadata": {},
   "source": [
    "#### Testing"
   ]
  },
  {
   "cell_type": "code",
   "execution_count": 36,
   "metadata": {},
   "outputs": [],
   "source": [
    "#After the models have been trained they are tested and subsequently its tags are \n",
    "#checked against the ground-truth tags in the original training sentences\n",
    "#Note: The Default and Regexp Taggers are not trainable\n",
    "#Note: Only the testing set evaluation will be graphed\n",
    "\n",
    "#=====================PENN=============================================\n",
    "\n",
    "#Evaluation Scores ----------------------------------------- Task 1.3.1\n",
    "penn_tg_score = penn_trigram_model.evaluate(penn_test_sents)\n",
    "penn_tg_score_2 = penn_trigram_model.evaluate(penn_train_sents)\n",
    "scores_list.append((\"Task 1.3.1\", penn_tg_score))\n",
    "\n",
    "#Evaluation Scores ----------------------------------------- Task 1.3.2\n",
    "penn_bg_score = penn_bigram_model.evaluate(penn_test_sents)\n",
    "penn_bg_score_2 = penn_bigram_model.evaluate(penn_train_sents)\n",
    "scores_list.append((\"Task 1.3.2\", penn_bg_score))\n",
    "\n",
    "#Evaluation Scores ----------------------------------------- Task 1.3.3\n",
    "penn_ug_score = penn_unigram_model.evaluate(penn_test_sents)\n",
    "penn_ug_score_2 = penn_unigram_model.evaluate(penn_train_sents)\n",
    "scores_list.append((\"Task 1.3.3\", penn_ug_score))\n",
    "#Evaluation Scores ----------------------------------------- Task 1.3.4\n",
    "penn_df_score = default_tagg_model.evaluate(penn_test_sents)\n",
    "penn_df_score_2 = default_tagg_model.evaluate(penn_train_sents)\n",
    "scores_list.append((\"Task 1.3.4\", penn_ug_score))\n",
    "\n",
    "#Evaluation Scores ----------------------------------------- Task 1.3.5\n",
    "penn_rx_score = regexp_taggs_model.evaluate(penn_test_sents)\n",
    "penn_rx_score_2 = regexp_taggs_model.evaluate(penn_train_sents)\n",
    "scores_list.append((\"Task 1.3.5\", penn_rx_score))\n",
    "\n",
    "#=====================BROWN============================================\n",
    "\n",
    "#Evaluation Scores ----------------------------------------- Task 1.6.1\n",
    "brwn_tg_score = brwn_trigram_model.evaluate(brwn_test_sents)\n",
    "brwn_tg_score_2 = brwn_trigram_model.evaluate(brwn_train_sents)\n",
    "scores_list.append((\"Task 1.6.1\", brwn_tg_score))\n",
    "\n",
    "#Evaluation Scores ----------------------------------------- Task 1.6.2\n",
    "brwn_bg_score = penn_bigram_model.evaluate(brwn_test_sents)\n",
    "brwn_bg_score_2 = penn_bigram_model.evaluate(brwn_train_sents)\n",
    "scores_list.append((\"Task 1.6.2\", brwn_bg_score))\n",
    "\n",
    "#Evaluation Scores ----------------------------------------- Task 1.6.3\n",
    "brwn_ug_score = penn_unigram_model.evaluate(brwn_test_sents)\n",
    "brwn_ug_score_2 = penn_unigram_model.evaluate(brwn_train_sents)\n",
    "scores_list.append((\"Task 1.6.3\", brwn_bg_score))\n",
    "\n",
    "#Evaluation Scores ----------------------------------------- Task 1.6.4\n",
    "brwn_df_score = default_tagg_model.evaluate(brwn_test_sents)\n",
    "brwn_df_score_2 = default_tagg_model.evaluate(brwn_train_sents)\n",
    "scores_list.append((\"Task 1.6.4\", brwn_df_score))\n",
    "\n",
    "#Evaluation Scores ----------------------------------------- Task 1.6.5\n",
    "penn_rx_score = regexp_taggs_model.evaluate(brwn_test_sents)\n",
    "brwn_rx_score_2 = regexp_taggs_model.evaluate(brwn_train_sents)\n",
    "scores_list.append((\"Task 1.6.5\", penn_rx_score))\n"
   ]
  },
  {
   "cell_type": "markdown",
   "metadata": {},
   "source": [
    "# Model 4\n",
    "    \n",
    "    Own POS Tagger trained on \"Alpino Dutch Treebank\"\n",
    "    ID: alpino"
   ]
  },
  {
   "cell_type": "code",
   "execution_count": 37,
   "metadata": {},
   "outputs": [
    {
     "name": "stdout",
     "output_type": "stream",
     "text": [
      "training...\n"
     ]
    },
    {
     "data": {
      "text/plain": [
       "Pipeline(memory=None,\n",
       "     steps=[('vectorizer', DictVectorizer(dtype=<class 'numpy.float64'>, separator='=', sort=True,\n",
       "        sparse=False)), ('classifier', DecisionTreeClassifier(class_weight=None, criterion='entropy', max_depth=None,\n",
       "            max_features=None, max_leaf_nodes=None,\n",
       "            min_impurity_decrease=0.0, min_impurity_split=None,\n",
       "            min_samples_leaf=1, min_samples_split=2,\n",
       "            min_weight_fraction_leaf=0.0, presort=False, random_state=None,\n",
       "            splitter='best'))])"
      ]
     },
     "execution_count": 37,
     "metadata": {},
     "output_type": "execute_result"
    },
    {
     "name": "stdout",
     "output_type": "stream",
     "text": [
      "Training complete\n",
      "Own POS Tagger on Dutch Score:  0.8614279986879032\n"
     ]
    }
   ],
   "source": [
    "#Dutch language corpus to be used for training\n",
    "dutch_taggs = nltk.corpus.alpino.tagged_sents()\n",
    "\n",
    "#80/20 split (training/testing)\n",
    "size_dutch = int(.8 *len(dutch_taggs))\n",
    "dutch_train_sents = dutch_taggs[:size_dutch]\n",
    "dutch_test_sents = dutch_taggs[size_dutch:]\n",
    "\n",
    "#Training vectors\n",
    "X_dutch, y_dutch = transform_to_dataset(dutch_train_sents)\n",
    "\n",
    "#Testing vecotrs\n",
    "X_dutch_test, y_dutch_test = transform_to_dataset(dutch_test_sents)\n",
    "\n",
    "#SKLEARN DecisionTree...\n",
    "dutch_clf = skpip.Pipeline([('vectorizer', DictVectorizer(sparse=False)),\n",
    "                       ('classifier', DecisionTreeClassifier(criterion='entropy'))])\n",
    "\n",
    "print('training...')\n",
    "\n",
    "#only a portion is used because of MEMORY ISSUES\n",
    "fit_size = 15000\n",
    "dutch_clf.fit(X_dutch[:fit_size], y_dutch[:fit_size])\n",
    "\n",
    "print(\"Training complete\")\n",
    "\n",
    "\n",
    "#evaluation of Own POS Tagger on DUTCH language ----------------- Task 2.1\n",
    "own_score_DUTCH = dutch_clf.score(X_dutch_test, y_dutch_test)\n",
    "scores_list.append((\"Task 2.1\", own_score_DUTCH))\n",
    "print(\"Own POS Tagger on Dutch Score: \", own_score_DUTCH)"
   ]
  },
  {
   "cell_type": "markdown",
   "metadata": {},
   "source": [
    "## Graphs"
   ]
  },
  {
   "cell_type": "code",
   "execution_count": 58,
   "metadata": {},
   "outputs": [
    {
     "name": "stdout",
     "output_type": "stream",
     "text": [
      "15\n"
     ]
    },
    {
     "data": {
      "text/plain": [
       "[<matplotlib.axis.YTick at 0x7fb371e1ba20>,\n",
       " <matplotlib.axis.YTick at 0x7fb371e1bac8>,\n",
       " <matplotlib.axis.YTick at 0x7fb370c19748>,\n",
       " <matplotlib.axis.YTick at 0x7fb36d858c88>,\n",
       " <matplotlib.axis.YTick at 0x7fb36d858dd8>,\n",
       " <matplotlib.axis.YTick at 0x7fb36d858b00>,\n",
       " <matplotlib.axis.YTick at 0x7fb36d8707b8>,\n",
       " <matplotlib.axis.YTick at 0x7fb36d870a58>,\n",
       " <matplotlib.axis.YTick at 0x7fb36d8586a0>,\n",
       " <matplotlib.axis.YTick at 0x7fb36d870a20>,\n",
       " <matplotlib.axis.YTick at 0x7fb36d879208>,\n",
       " <matplotlib.axis.YTick at 0x7fb36d8795f8>,\n",
       " <matplotlib.axis.YTick at 0x7fb36d897400>,\n",
       " <matplotlib.axis.YTick at 0x7fb36d897d68>,\n",
       " <matplotlib.axis.YTick at 0x7fb36d897978>]"
      ]
     },
     "execution_count": 58,
     "metadata": {},
     "output_type": "execute_result"
    },
    {
     "data": {
      "text/plain": [
       "[Text(0,0,'Model 1 X1'),\n",
       " Text(0,0,'Model 2 X1'),\n",
       " Text(0,0,'Model 3.1 X1'),\n",
       " Text(0,0,'Model 3.2 X1'),\n",
       " Text(0,0,'Model 3.3 X1'),\n",
       " Text(0,0,'Model 3.4 X1'),\n",
       " Text(0,0,'Model 3.5 X1'),\n",
       " Text(0,0,'Model 1 X2'),\n",
       " Text(0,0,'Model 2 X2'),\n",
       " Text(0,0,'Model 3.1 X2'),\n",
       " Text(0,0,'Model 3.2 X2'),\n",
       " Text(0,0,'Model 3.3 X2'),\n",
       " Text(0,0,'Model 3.4 X2'),\n",
       " Text(0,0,'Model 3.5 X2'),\n",
       " Text(0,0,'Model 1 on Dutch')]"
      ]
     },
     "execution_count": 58,
     "metadata": {},
     "output_type": "execute_result"
    },
    {
     "data": {
      "text/plain": [
       "Text(0.9134,0,'0.91')"
      ]
     },
     "execution_count": 58,
     "metadata": {},
     "output_type": "execute_result"
    },
    {
     "data": {
      "text/plain": [
       "Text(0.989875,1,'0.99')"
      ]
     },
     "execution_count": 58,
     "metadata": {},
     "output_type": "execute_result"
    },
    {
     "data": {
      "text/plain": [
       "Text(0.0673686,2,'0.07')"
      ]
     },
     "execution_count": 58,
     "metadata": {},
     "output_type": "execute_result"
    },
    {
     "data": {
      "text/plain": [
       "Text(0.113279,3,'0.11')"
      ]
     },
     "execution_count": 58,
     "metadata": {},
     "output_type": "execute_result"
    },
    {
     "data": {
      "text/plain": [
       "Text(0.860821,4,'0.86')"
      ]
     },
     "execution_count": 58,
     "metadata": {},
     "output_type": "execute_result"
    },
    {
     "data": {
      "text/plain": [
       "Text(0.860821,5,'0.86')"
      ]
     },
     "execution_count": 58,
     "metadata": {},
     "output_type": "execute_result"
    },
    {
     "data": {
      "text/plain": [
       "Text(0.242327,6,'0.24')"
      ]
     },
     "execution_count": 58,
     "metadata": {},
     "output_type": "execute_result"
    },
    {
     "data": {
      "text/plain": [
       "Text(0.9997,7,'1.0')"
      ]
     },
     "execution_count": 58,
     "metadata": {},
     "output_type": "execute_result"
    },
    {
     "data": {
      "text/plain": [
       "Text(0.588614,8,'0.59')"
      ]
     },
     "execution_count": 58,
     "metadata": {},
     "output_type": "execute_result"
    },
    {
     "data": {
      "text/plain": [
       "Text(0.191786,9,'0.19')"
      ]
     },
     "execution_count": 58,
     "metadata": {},
     "output_type": "execute_result"
    },
    {
     "data": {
      "text/plain": [
       "Text(0.0568726,10,'0.06')"
      ]
     },
     "execution_count": 58,
     "metadata": {},
     "output_type": "execute_result"
    },
    {
     "data": {
      "text/plain": [
       "Text(0.0568726,11,'0.06')"
      ]
     },
     "execution_count": 58,
     "metadata": {},
     "output_type": "execute_result"
    },
    {
     "data": {
      "text/plain": [
       "Text(0.109978,12,'0.11')"
      ]
     },
     "execution_count": 58,
     "metadata": {},
     "output_type": "execute_result"
    },
    {
     "data": {
      "text/plain": [
       "Text(0.175944,13,'0.18')"
      ]
     },
     "execution_count": 58,
     "metadata": {},
     "output_type": "execute_result"
    },
    {
     "data": {
      "text/plain": [
       "Text(0.861428,14,'0.86')"
      ]
     },
     "execution_count": 58,
     "metadata": {},
     "output_type": "execute_result"
    },
    {
     "data": {
      "image/png": "[encoded data removed]",
      "text/plain": [
       "<Figure size 1368x504 with 1 Axes>"
      ]
     },
     "metadata": {},
     "output_type": "display_data"
    }
   ],
   "source": [
    "import matplotlib.pyplot as plt\n",
    "\n",
    "\n",
    "scores = sorted(scores_list)\n",
    "score_rn = []\n",
    "for t,s in scores:\n",
    "    score_rn.append(s)\n",
    "\n",
    "print(len(score_rn))\n",
    "    \n",
    "labels = [each.strip() for each in 'Model 1 X1, Model 2 X1, Model 3.1 X1,\\\n",
    "          Model 3.2 X1, Model 3.3 X1, Model 3.4 X1, Model 3.5 X1, Model 1 X2,\\\n",
    "          Model 2 X2, Model 3.1 X2, Model 3.2 X2, Model 3.3 X2, Model 3.4 X2,\\\n",
    "          Model 3.5 X2, Model 1 on Dutch'.split(',')]\n",
    "\n",
    "fig, ax = plt.subplots(figsize=(19,7))\n",
    "\n",
    "plot = ax.barh(range(len(score_rn)), score_rn)\n",
    "ax.set_yticks(range(len(score_rn)))\n",
    "ax.set_yticklabels(labels)\n",
    "\n",
    "for i,v in enumerate(score_rn):\n",
    "    ax.text(v,i, str(round(v,2)))\n",
    "    \n",
    "plt.show()"
   ]
  },
  {
   "cell_type": "markdown",
   "metadata": {},
   "source": [
    "# Model 5"
   ]
  },
  {
   "cell_type": "code",
   "execution_count": 39,
   "metadata": {},
   "outputs": [
    {
     "ename": "ModuleNotFoundError",
     "evalue": "No module named 'pSCRDRtagger'",
     "output_type": "error",
     "traceback": [
      "\u001b[0;31m---------------------------------------------------------------------------\u001b[0m",
      "\u001b[0;31mModuleNotFoundError\u001b[0m                       Traceback (most recent call last)",
      "\u001b[0;32m<ipython-input-39-59ba90d1e84d>\u001b[0m in \u001b[0;36m<module>\u001b[0;34m()\u001b[0m\n\u001b[0;32m----> 1\u001b[0;31m \u001b[0;32mfrom\u001b[0m \u001b[0mpSCRDRtagger\u001b[0m\u001b[0;34m.\u001b[0m\u001b[0mRDRPOSTagger\u001b[0m \u001b[0;32mimport\u001b[0m \u001b[0mRDRPOSTagger\u001b[0m\u001b[0;34m\u001b[0m\u001b[0m\n\u001b[0m\u001b[1;32m      2\u001b[0m \u001b[0;34m\u001b[0m\u001b[0m\n\u001b[1;32m      3\u001b[0m \u001b[0;31m###I coulndn't get this library to open up\u001b[0m\u001b[0;34m\u001b[0m\u001b[0;34m\u001b[0m\u001b[0m\n",
      "\u001b[0;31mModuleNotFoundError\u001b[0m: No module named 'pSCRDRtagger'"
     ]
    }
   ],
   "source": [
    "from pSCRDRtagger.RDRPOSTagger import RDRPOSTagger\n",
    "\n",
    "###I coulndn't get this library to open up "
   ]
  },
  {
   "cell_type": "code",
   "execution_count": null,
   "metadata": {},
   "outputs": [],
   "source": []
  }
 ],
 "metadata": {
  "kernelspec": {
   "display_name": "Python 3",
   "language": "python",
   "name": "python3"
  },
  "language_info": {
   "codemirror_mode": {
    "name": "ipython",
    "version": 3
   },
   "file_extension": ".py",
   "mimetype": "text/x-python",
   "name": "python",
   "nbconvert_exporter": "python",
   "pygments_lexer": "ipython3",
   "version": "3.6.5"
  }
 },
 "nbformat": 4,
 "nbformat_minor": 2
}
