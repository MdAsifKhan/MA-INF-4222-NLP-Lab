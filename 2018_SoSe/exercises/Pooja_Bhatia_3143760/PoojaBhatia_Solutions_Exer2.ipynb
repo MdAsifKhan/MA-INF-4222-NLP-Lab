{
 "cells": [
  {
   "cell_type": "code",
   "execution_count": 61,
   "metadata": {},
   "outputs": [
    {
     "name": "stdout",
     "output_type": "stream",
     "text": [
      "Training measurements\n",
      "precision recall Fmeasure accuracy\n",
      "[0.9101450471676342, 0.9083168771555759, 0.9079029301777306, 0.9079825310637952]\n",
      "Test Measurements\n",
      "Average accuracy: 0.9047869542346134\n",
      "Average f1: 0.9046006856597846\n",
      "Average precision: 0.9062191982591941\n",
      "Average Recall: 0.9042923986190983\n"
     ]
    }
   ],
   "source": [
    "import numpy as np\n",
    "import pandas as pd\n",
    "import itertools\n",
    "from sklearn.model_selection import train_test_split\n",
    "from sklearn.linear_model import LogisticRegression\n",
    "from sklearn.naive_bayes import MultinomialNB\n",
    "from sklearn import metrics\n",
    "from sklearn.model_selection import StratifiedKFold\n",
    "from sklearn.feature_extraction.text import CountVectorizer, TfidfVectorizer, HashingVectorizer\n",
    "import matplotlib.pyplot as plt\n",
    "import seaborn as sns\n",
    "\n",
    "\n",
    "#Configuration 1: model a => dataset1 (train / test split)\n",
    "df = pd.read_csv('fake_or_real_news.csv')\n",
    "df.shape\n",
    "df.head()\n",
    "y = df.label\n",
    "df = df.drop('label', axis=1)\n",
    "x=df['text']\n",
    "\n",
    "#Splitting Dataset\n",
    "train_size = int(0.7 * len(x))\n",
    "x_train=x[:train_size]\n",
    "x_raw_test=x[train_size:]\n",
    "\n",
    "y_raw_train=y[:train_size]\n",
    "y_raw_test=y[train_size:]\n",
    "\n",
    "x=df['text']\n",
    "train_size = int(0.7 * len(x))\n",
    "x_raw_train=x[:train_size]\n",
    "x_raw_test=x[train_size:]\n",
    "\n",
    "y_raw_train=y[:train_size]\n",
    "y_raw_test=y[train_size:]\n",
    "\n",
    "\n",
    "#Training\n",
    "\n",
    "acc_score=0\n",
    "fmeasure=0\n",
    "pre_score=0\n",
    "rcall_score=0\n",
    "fold_size=5\n",
    "performance_measure_model1=[]\n",
    "#  5-fold cross-validation\n",
    "skf = StratifiedKFold(n_splits=fold_size, shuffle=True, random_state=0)\n",
    "clf = LogisticRegression(class_weight='balanced')\n",
    "###vectorizing data\n",
    "tfidf_vectorizer = TfidfVectorizer(stop_words='english', max_df=0.7)\n",
    "x_tfidf=tfidf_vectorizer.fit_transform(x)\n",
    "###stratified k-fold\n",
    "for train_index, test_index in skf.split(x_raw_train, y_raw_train):\n",
    "    x_train, x_test = x_raw_train[train_index], x_raw_train[test_index]\n",
    "    y_train, y_test = y_raw_train[train_index], y_raw_train[test_index]\n",
    "\n",
    "    tfidf_train=tfidf_vectorizer.transform(x_train) \n",
    "    tfidf_test = tfidf_vectorizer.transform(x_test)\n",
    "    \n",
    "    clf.fit(tfidf_train, y_train)\n",
    "    y_pred = clf.predict(tfidf_test)\n",
    "    acc_score += metrics.accuracy_score(y_test, y_pred)\n",
    "    fmeasure+=metrics.f1_score(y_test, y_pred,average='macro')\n",
    "    pre_score+=metrics.precision_score(y_test, y_pred,average='macro')\n",
    "    rcall_score+=metrics.recall_score(y_test, y_pred,average='macro')\n",
    "\n",
    "performance_measure_model1.append(pre_score/fold_size)\n",
    "performance_measure_model1.append(rcall_score/fold_size)\n",
    "performance_measure_model1.append(fmeasure/fold_size)\n",
    "performance_measure_model1.append(acc_score/fold_size)\n",
    "print('Training measurements')\n",
    "print('precision','recall','Fmeasure','accuracy')\n",
    "print(performance_measure_model1)\n",
    "\n",
    "#Results of Task1 (Test Measurements)\n",
    "print('Test Measurements')\n",
    "tfidf_test = tfidf_vectorizer.transform(x_raw_test)\n",
    "test_test_pred = clf.predict(tfidf_test)\n",
    "acc_score = metrics.accuracy_score(y_raw_test, test_test_pred)\n",
    "print('Average accuracy:',acc_score)\n",
    "fmeasure=metrics.f1_score(y_raw_test, test_test_pred,average='macro')\n",
    "print('Average f1:',fmeasure)\n",
    "pre_score=metrics.precision_score(y_raw_test, test_test_pred,average='macro')\n",
    "print('Average precision:',pre_score)\n",
    "rcall_score=metrics.recall_score(y_raw_test, test_test_pred,average='macro')\n",
    "print('Average Recall:',rcall_score)"
   ]
  },
  {
   "cell_type": "code",
   "execution_count": 62,
   "metadata": {},
   "outputs": [
    {
     "name": "stdout",
     "output_type": "stream",
     "text": [
      "Measurements on training set for Dataset2\n",
      "Average accuracy: 0.54794921875\n",
      "Average f1: 0.46149842450823847\n",
      "Average precision: 0.7271079379323123\n",
      "Average Recall: 0.4797677668250742\n"
     ]
    }
   ],
   "source": [
    "#Configuration 2) model b => dataset2 (train / validation / test split)\n",
    "\n",
    "# Measurements on training set\n",
    "\n",
    "#Loading the Data\n",
    "df_model2_train = pd.read_csv('train.tsv', sep='\\t', header=None)\n",
    "df_model2_train.shape\n",
    "y_model2_train= df_model2_train[1]\n",
    "x_model2_train=df_model2_train[2]\n",
    "\n",
    "\n",
    "tfidf_train = tfidf_vectorizer.transform(x_model2_train)\n",
    "tfidf_test = tfidf_vectorizer.transform(x_model2_train)\n",
    "clf2=MultinomialNB()\n",
    "clf2.fit(tfidf_train, y_model2_train)\n",
    "\n",
    "y_pred = clf2.predict(tfidf_test)\n",
    "train_model2_pred = clf2.predict(tfidf_test)\n",
    "acc_score = metrics.accuracy_score(y_model2_train, train_model2_pred)\n",
    "print('Measurements on training set for Dataset2')\n",
    "print('Average accuracy:',acc_score)\n",
    "fmeasure=metrics.f1_score(y_model2_train, train_model2_pred,average='macro')\n",
    "print('Average f1:',fmeasure)\n",
    "pre_score=metrics.precision_score(y_model2_train, train_model2_pred,average='macro')\n",
    "print('Average precision:',pre_score)\n",
    "rcall_score=metrics.recall_score(y_model2_train, train_model2_pred,average='macro')\n",
    "print('Average Recall:',rcall_score)\n",
    "\n"
   ]
  },
  {
   "cell_type": "code",
   "execution_count": 63,
   "metadata": {},
   "outputs": [],
   "source": [
    "#Function for confusion_matrix\n",
    "def plot_confusion_matrix(cm, classes,\n",
    "                          normalize=False,\n",
    "                          title='Confusion matrix',\n",
    "                          cmap=plt.cm.Blues):\n",
    "    \"\"\"\n",
    "    This function prints and plots the confusion matrix.\n",
    "    Normalization can be applied by setting `normalize=True`.\n",
    "    \"\"\"\n",
    "    plt.imshow(cm, interpolation='nearest', cmap=cmap)\n",
    "    plt.title(title)\n",
    "    plt.colorbar()\n",
    "    tick_marks = np.arange(len(classes))\n",
    "    plt.xticks(tick_marks, classes, rotation=45)\n",
    "    plt.yticks(tick_marks, classes)\n",
    "\n",
    "    if normalize:\n",
    "        cm = cm.astype('float') / cm.sum(axis=1)[:, np.newaxis]\n",
    "        print(\"Normalized confusion matrix\")\n",
    "    else:\n",
    "        print('Confusion matrix, without normalization')\n",
    "\n",
    "    thresh = cm.max() / 2.\n",
    "    for i, j in itertools.product(range(cm.shape[0]), range(cm.shape[1])):\n",
    "        plt.text(j, i, cm[i, j],\n",
    "                 horizontalalignment=\"center\",\n",
    "                 color=\"white\" if cm[i, j] > thresh else \"black\")\n",
    "\n",
    "    plt.tight_layout()\n",
    "    plt.ylabel('True label')\n",
    "    plt.xlabel('Predicted label')\n",
    "    \n",
    "def get_Scores(y_test,y_star):\n",
    "    scores = []\n",
    "    scores.append(metrics.precision_score(y_test, y_star, average = 'macro'))\n",
    "    scores.append(metrics.recall_score(y_test, y_star,average = 'macro'))\n",
    "    scores.append(metrics.f1_score(y_test, y_star, average = 'macro'))\n",
    "    scores.append(metrics.accuracy_score( y_test, y_star))    \n",
    "    print('Scores:')\n",
    "    print('precision: {}, recall: {}, \\n f_measure: {}, accuracy: {}'.format(scores[0],scores[1],scores[2],scores[3]))\n",
    "    \n",
    "    return scores"
   ]
  },
  {
   "cell_type": "code",
   "execution_count": 64,
   "metadata": {},
   "outputs": [
    {
     "name": "stdout",
     "output_type": "stream",
     "text": [
      "Scores:\n",
      "precision: 0.7271079379323123, recall: 0.4797677668250742, \n",
      " f_measure: 0.46149842450823847, accuracy: 0.54794921875\n",
      "Confusion matrix, without normalization\n"
     ]
    },
    {
     "data": {
      "image/png": "[encoded data removed]",
      "text/plain": [
       "<Figure size 432x288 with 2 Axes>"
      ]
     },
     "metadata": {},
     "output_type": "display_data"
    }
   ],
   "source": [
    "#Confusion matrix and Scores for training set\n",
    "scores = get_Scores(y_model2_train, train_model2_pred)\n",
    "confusion_matrix = metrics.confusion_matrix(y_model2_train, train_model2_pred, labels=['true', 'false'])\n",
    "plot_confusion_matrix(confusion_matrix, classes=['true', 'false'])"
   ]
  },
  {
   "cell_type": "code",
   "execution_count": 65,
   "metadata": {},
   "outputs": [
    {
     "name": "stdout",
     "output_type": "stream",
     "text": [
      "0.23052959501557632\n",
      "0.16583238679872242\n",
      "0.20809452488116997\n",
      "0.19834679554818432\n",
      "Scores:\n",
      "precision: 0.20809452488116997, recall: 0.19834679554818432, \n",
      " f_measure: 0.16583238679872242, accuracy: 0.23052959501557632\n",
      "Confusion matrix, without normalization\n"
     ]
    },
    {
     "name": "stderr",
     "output_type": "stream",
     "text": [
      "/home/pooja/anaconda3/lib/python3.6/site-packages/sklearn/metrics/classification.py:1135: UndefinedMetricWarning: F-score is ill-defined and being set to 0.0 in labels with no predicted samples.\n",
      "  'precision', 'predicted', average, warn_for)\n",
      "/home/pooja/anaconda3/lib/python3.6/site-packages/sklearn/metrics/classification.py:1135: UndefinedMetricWarning: Precision is ill-defined and being set to 0.0 in labels with no predicted samples.\n",
      "  'precision', 'predicted', average, warn_for)\n",
      "/home/pooja/anaconda3/lib/python3.6/site-packages/sklearn/metrics/classification.py:1135: UndefinedMetricWarning: Precision is ill-defined and being set to 0.0 in labels with no predicted samples.\n",
      "  'precision', 'predicted', average, warn_for)\n",
      "/home/pooja/anaconda3/lib/python3.6/site-packages/sklearn/metrics/classification.py:1135: UndefinedMetricWarning: F-score is ill-defined and being set to 0.0 in labels with no predicted samples.\n",
      "  'precision', 'predicted', average, warn_for)\n"
     ]
    },
    {
     "data": {
      "image/png": "[encoded data removed]",
      "text/plain": [
       "<Figure size 432x288 with 2 Axes>"
      ]
     },
     "metadata": {},
     "output_type": "display_data"
    }
   ],
   "source": [
    "#Measurements on Validation Set\n",
    "df_model2_valid = pd.read_csv('valid.tsv', sep='\\t', header=None)\n",
    "df_model2_valid.shape\n",
    "df_model2_valid.head()\n",
    "y_model2_valid = df_model2_valid[1]\n",
    "x_model2_valid=df_model2_valid[2]\n",
    "\n",
    "tfidf_valid = tfidf_vectorizer.transform(x_model2_valid)\n",
    "\n",
    "valid_model2_pred = clf2.predict(tfidf_valid)\n",
    "acc_score = metrics.accuracy_score(y_model2_valid, valid_model2_pred)\n",
    "print(acc_score)\n",
    "fmeasure=metrics.f1_score(y_model2_valid, valid_model2_pred,average='macro')\n",
    "print(fmeasure)\n",
    "pre_score=metrics.precision_score(y_model2_valid, valid_model2_pred,average='macro')\n",
    "print(pre_score)\n",
    "rcall_score=metrics.recall_score(y_model2_valid, valid_model2_pred,average='macro')\n",
    "print(rcall_score)\n",
    "\n",
    "#Confusion matrix and Scores for Validation Set\n",
    "scores = get_Scores(y_model2_valid, valid_model2_pred)\n",
    "confusion_matrix = metrics.confusion_matrix(y_model2_valid, valid_model2_pred, labels=['true', 'false'])\n",
    "plot_confusion_matrix(confusion_matrix, classes=['true', 'false'])"
   ]
  },
  {
   "cell_type": "code",
   "execution_count": 72,
   "metadata": {},
   "outputs": [
    {
     "name": "stdout",
     "output_type": "stream",
     "text": [
      "0.24151539068666142\n",
      "0.16770752568170275\n",
      "0.22163248056583548\n",
      "0.2022830662644596\n",
      "Scores:\n",
      "precision: 0.22163248056583548, recall: 0.2022830662644596, \n",
      " f_measure: 0.16770752568170275, accuracy: 0.24151539068666142\n",
      "Confusion matrix, without normalization\n"
     ]
    },
    {
     "name": "stderr",
     "output_type": "stream",
     "text": [
      "/home/pooja/anaconda3/lib/python3.6/site-packages/sklearn/metrics/classification.py:1135: UndefinedMetricWarning: F-score is ill-defined and being set to 0.0 in labels with no predicted samples.\n",
      "  'precision', 'predicted', average, warn_for)\n",
      "/home/pooja/anaconda3/lib/python3.6/site-packages/sklearn/metrics/classification.py:1135: UndefinedMetricWarning: Precision is ill-defined and being set to 0.0 in labels with no predicted samples.\n",
      "  'precision', 'predicted', average, warn_for)\n",
      "/home/pooja/anaconda3/lib/python3.6/site-packages/sklearn/metrics/classification.py:1135: UndefinedMetricWarning: Precision is ill-defined and being set to 0.0 in labels with no predicted samples.\n",
      "  'precision', 'predicted', average, warn_for)\n",
      "/home/pooja/anaconda3/lib/python3.6/site-packages/sklearn/metrics/classification.py:1135: UndefinedMetricWarning: F-score is ill-defined and being set to 0.0 in labels with no predicted samples.\n",
      "  'precision', 'predicted', average, warn_for)\n"
     ]
    },
    {
     "data": {
      "image/png": "[encoded data removed]",
      "text/plain": [
       "<Figure size 432x288 with 2 Axes>"
      ]
     },
     "metadata": {},
     "output_type": "display_data"
    }
   ],
   "source": [
    "MultinomialNB(alpha=1.0, class_prior=None, fit_prior=True)\n",
    "\n",
    "#Measurement of test set\n",
    "\n",
    "df_model2_test = pd.read_csv('test.tsv', sep='\\t', header=None)\n",
    "df_model2_test.shape\n",
    "df_model2_test.head()\n",
    "y_model2_test = df_model2_test[1]\n",
    "x_model2_test=df_model2_test[2]\n",
    "tfidf_test_model2 = tfidf_vectorizer.transform(x_model2_test)\n",
    "\n",
    "test_model2_pred = clf2.predict(tfidf_test_model2)\n",
    "acc_score = metrics.accuracy_score(y_model2_test, test_model2_pred)\n",
    "print(acc_score)\n",
    "fmeasure=metrics.f1_score(y_model2_test, test_model2_pred,average='macro')\n",
    "print(fmeasure)\n",
    "pre_score=metrics.precision_score(y_model2_test, test_model2_pred,average='macro')\n",
    "print(pre_score)\n",
    "rcall_score=metrics.recall_score(y_model2_test, test_model2_pred,average='macro')\n",
    "print(rcall_score)\n",
    "\n",
    "#Confusion matrix and Scores for test set\n",
    "scores = get_Scores(y_model2_test, test_model2_pred)\n",
    "confusion_matrix = metrics.confusion_matrix(y_model2_test, test_model2_pred, labels=['true', 'false'])\n",
    "plot_confusion_matrix(confusion_matrix, classes=['true', 'false'])"
   ]
  },
  {
   "cell_type": "code",
   "execution_count": 67,
   "metadata": {},
   "outputs": [
    {
     "name": "stdout",
     "output_type": "stream",
     "text": [
      "0.0\n",
      "0.0\n",
      "0.0\n",
      "0.0\n",
      "Scores:\n",
      "precision: 0.0, recall: 0.0, \n",
      " f_measure: 0.0, accuracy: 0.0\n",
      "Confusion matrix, without normalization\n"
     ]
    },
    {
     "name": "stderr",
     "output_type": "stream",
     "text": [
      "/home/pooja/anaconda3/lib/python3.6/site-packages/sklearn/metrics/classification.py:1135: UndefinedMetricWarning: F-score is ill-defined and being set to 0.0 in labels with no predicted samples.\n",
      "  'precision', 'predicted', average, warn_for)\n",
      "/home/pooja/anaconda3/lib/python3.6/site-packages/sklearn/metrics/classification.py:1137: UndefinedMetricWarning: F-score is ill-defined and being set to 0.0 in labels with no true samples.\n",
      "  'recall', 'true', average, warn_for)\n",
      "/home/pooja/anaconda3/lib/python3.6/site-packages/sklearn/metrics/classification.py:1135: UndefinedMetricWarning: Precision is ill-defined and being set to 0.0 in labels with no predicted samples.\n",
      "  'precision', 'predicted', average, warn_for)\n",
      "/home/pooja/anaconda3/lib/python3.6/site-packages/sklearn/metrics/classification.py:1137: UndefinedMetricWarning: Recall is ill-defined and being set to 0.0 in labels with no true samples.\n",
      "  'recall', 'true', average, warn_for)\n",
      "/home/pooja/anaconda3/lib/python3.6/site-packages/sklearn/metrics/classification.py:1135: UndefinedMetricWarning: Precision is ill-defined and being set to 0.0 in labels with no predicted samples.\n",
      "  'precision', 'predicted', average, warn_for)\n",
      "/home/pooja/anaconda3/lib/python3.6/site-packages/sklearn/metrics/classification.py:1137: UndefinedMetricWarning: Recall is ill-defined and being set to 0.0 in labels with no true samples.\n",
      "  'recall', 'true', average, warn_for)\n",
      "/home/pooja/anaconda3/lib/python3.6/site-packages/sklearn/metrics/classification.py:1135: UndefinedMetricWarning: F-score is ill-defined and being set to 0.0 in labels with no predicted samples.\n",
      "  'precision', 'predicted', average, warn_for)\n",
      "/home/pooja/anaconda3/lib/python3.6/site-packages/sklearn/metrics/classification.py:1137: UndefinedMetricWarning: F-score is ill-defined and being set to 0.0 in labels with no true samples.\n",
      "  'recall', 'true', average, warn_for)\n"
     ]
    },
    {
     "data": {
      "image/png": "[encoded data removed]",
      "text/plain": [
       "<Figure size 432x288 with 2 Axes>"
      ]
     },
     "metadata": {},
     "output_type": "display_data"
    }
   ],
   "source": [
    "#Configuration 3) model a => dataset2 | model2 => dataset1 (test)\n",
    "clf_pred = clf.predict(tfidf_test_model2)\n",
    "acc_score = metrics.accuracy_score(y_model2_test, clf_pred)\n",
    "print(acc_score)\n",
    "fmeasure=metrics.f1_score(y_model2_test, clf_pred,average='macro')\n",
    "print(fmeasure)\n",
    "pre_score=metrics.precision_score(y_model2_test, clf_pred,average='macro')\n",
    "print(pre_score)\n",
    "rcall_score=metrics.recall_score(y_model2_test, clf_pred,average='macro')\n",
    "print(rcall_score)\n",
    "\n",
    "#Confusion matrix and Scores for test set\n",
    "scores = get_Scores(y_model2_test, clf_pred)\n",
    "confusion_matrix = metrics.confusion_matrix(y_model2_test, clf_pred, labels=['true', 'false'])\n",
    "plot_confusion_matrix(confusion_matrix, classes=['true', 'false'])"
   ]
  },
  {
   "cell_type": "code",
   "execution_count": 68,
   "metadata": {},
   "outputs": [
    {
     "name": "stdout",
     "output_type": "stream",
     "text": [
      "processing datasets\n",
      "ds1= fake_or_real_news.csv\n",
      "ds2= train.tsv\n",
      "-- fake news\n",
      "Index(['y', 'claim'], dtype='object')\n",
      "3171\n",
      "3164\n",
      "6335\n",
      "-- liar liar\n",
      "Index(['y', 'claim'], dtype='object')\n",
      "{'true', 'barely-true', 'pants-fire', 'half-true', 'mostly-true', 'false'} 10240\n",
      "1676\n",
      "1995\n",
      "{'true', 'false'} 3671\n",
      "false    5159\n",
      "true     4847\n",
      "Name: y, dtype: int64\n",
      "done\n",
      "7004\n",
      "3002\n"
     ]
    }
   ],
   "source": [
    "#Configuration 4) model c => dataset3 (train / test split\n",
    "import random\n",
    "import sys\n",
    "import pandas as pd\n",
    "import numpy as np\n",
    "from sklearn.cross_validation import train_test_split\n",
    "\n",
    "ds1 = 'fake_or_real_news.csv'\n",
    "ds2 = 'train.tsv'\n",
    "\n",
    "def get_dataset3_split(dataset1_in, dataset2_in):\n",
    "    try:\n",
    "        print('processing datasets')\n",
    "        print('ds1=', dataset1_in)\n",
    "        print('ds2=', dataset2_in)\n",
    "\n",
    "        print('-- fake news')\n",
    "        df1 = pd.read_csv(dataset1_in, sep=',', usecols=['title','text','label'])\n",
    "        df1['claim'] = df1[['title', 'text']].apply(lambda x: '. '.join(x), axis=1)\n",
    "        del df1['title']\n",
    "        del df1['text']\n",
    "        df1.rename(index=str, columns={'label': 'y'}, inplace=True)\n",
    "        print(df1.keys())\n",
    "        print(len(df1[df1['y']=='REAL']))\n",
    "        print(len(df1[df1['y']=='FAKE']))\n",
    "        df1['y'] = np.where(df1['y'] == 'FAKE', 'false', 'true')\n",
    "        print(len(df1))\n",
    "\n",
    "        print('-- liar liar')\n",
    "        df2 = pd.read_csv(dataset2_in, sep='\\t', header=None, usecols=[1,2], names=['y', 'claim'])\n",
    "        print(df2.keys())\n",
    "        print(set(df2.y), len(df2))\n",
    "        print(len(df2[df2['y'] == 'true']))\n",
    "        print(len(df2[df2['y'] == 'false']))\n",
    "        df2=df2[(df2['y'] == 'true') | (df2['y'] == 'false')]\n",
    "        print(set(df2.y), len(df2))\n",
    "\n",
    "        df3=pd.concat([df1, df2], ignore_index=True)\n",
    "\n",
    "        print(df3['y'].value_counts())\n",
    "        print('done')\n",
    "        return train_test_split(df3['claim'], df3['y'], test_size=0.30, random_state=35)\n",
    "    except Exception as e:\n",
    "        print(e)\n",
    "\n",
    "ds3_train, ds3_test, ds3_y_train, ds3_y_test = get_dataset3_split(ds1,ds2)\n",
    "print(len(ds3_train))\n",
    "print(len(ds3_test))\n"
   ]
  },
  {
   "cell_type": "code",
   "execution_count": 69,
   "metadata": {},
   "outputs": [
    {
     "name": "stdout",
     "output_type": "stream",
     "text": [
      "Train measurment\n",
      "precision recall Fmeasure accuracy\n",
      "[0.7627188147918379, 0.6968113122568707, 0.6800395948141202, 0.7020228827206745]\n"
     ]
    }
   ],
   "source": [
    "#Training measurements\n",
    "clf = LogisticRegression(C=.01)\n",
    "acc_score=0\n",
    "fmeasure=0\n",
    "pre_score=0\n",
    "rcall_score=0\n",
    "performance_measure_model3=[]\n",
    "for train_index, test_index in skf.split(ds3_train, ds3_y_train):\n",
    "    x_train, x_test = ds3_train.iloc[train_index], ds3_train.iloc[test_index]\n",
    "    y_train, y_test = ds3_y_train.iloc[train_index], ds3_y_train.iloc[test_index]\n",
    "    \n",
    "    tfidf_train=tfidf_vectorizer.transform(x_train.values.astype('U')) \n",
    "    tfidf_test = tfidf_vectorizer.transform(x_test.values.astype('U'))\n",
    "    clf.fit(tfidf_train, y_train)\n",
    "    y_pred = clf.predict(tfidf_test)\n",
    "    acc_score += metrics.accuracy_score(y_test, y_pred)\n",
    "    fmeasure+=metrics.f1_score(y_test, y_pred,average='macro')\n",
    "    pre_score+=metrics.precision_score(y_test, y_pred,average='macro')\n",
    "    rcall_score+=metrics.recall_score(y_test, y_pred,average='macro')\n",
    "\n",
    "performance_measure_model3.append(pre_score/fold_size)\n",
    "performance_measure_model3.append(rcall_score/fold_size)\n",
    "performance_measure_model3.append(fmeasure/fold_size)\n",
    "performance_measure_model3.append(acc_score/fold_size)\n",
    "print('Train measurment')\n",
    "print('precision','recall','Fmeasure','accuracy')\n",
    "print(performance_measure_model3)"
   ]
  },
  {
   "cell_type": "code",
   "execution_count": 70,
   "metadata": {},
   "outputs": [
    {
     "name": "stdout",
     "output_type": "stream",
     "text": [
      "Average accuracy: 0.7105263157894737\n",
      "Average f1: 0.6845801005793597\n",
      "Average precision: 0.7687326869806095\n",
      "Average Recall: 0.6969378665231403\n"
     ]
    }
   ],
   "source": [
    "#Training measurements\n",
    "tfidf_test = tfidf_vectorizer.transform(ds3_test)\n",
    "test_test_pred = clf.predict(tfidf_test)\n",
    "acc_score = metrics.accuracy_score(ds3_y_test, test_test_pred)\n",
    "print('Average accuracy:',acc_score)\n",
    "fmeasure=metrics.f1_score(ds3_y_test, test_test_pred,average='macro')\n",
    "print('Average f1:',fmeasure)\n",
    "pre_score=metrics.precision_score(ds3_y_test, test_test_pred,average='macro')\n",
    "print('Average precision:',pre_score)\n",
    "rcall_score=metrics.recall_score(ds3_y_test, test_test_pred,average='macro')\n",
    "print('Average Recall:',rcall_score)"
   ]
  },
  {
   "cell_type": "code",
   "execution_count": null,
   "metadata": {},
   "outputs": [],
   "source": []
  },
  {
   "cell_type": "code",
   "execution_count": null,
   "metadata": {},
   "outputs": [],
   "source": []
  }
 ],
 "metadata": {
  "kernelspec": {
   "display_name": "Python 3",
   "language": "python",
   "name": "python3"
  },
  "language_info": {
   "codemirror_mode": {
    "name": "ipython",
    "version": 3
   },
   "file_extension": ".py",
   "mimetype": "text/x-python",
   "name": "python",
   "nbconvert_exporter": "python",
   "pygments_lexer": "ipython3",
   "version": "3.6.5"
  }
 },
 "nbformat": 4,
 "nbformat_minor": 2
}
