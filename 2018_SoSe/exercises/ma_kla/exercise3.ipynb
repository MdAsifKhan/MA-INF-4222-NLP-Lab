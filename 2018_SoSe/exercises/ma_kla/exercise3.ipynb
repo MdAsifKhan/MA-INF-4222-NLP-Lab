{
 "cells": [
  {
   "cell_type": "markdown",
   "metadata": {},
   "source": [
    "# Exercise 3"
   ]
  },
  {
   "cell_type": "code",
   "execution_count": 15,
   "metadata": {},
   "outputs": [
    {
     "name": "stdout",
     "output_type": "stream",
     "text": [
      "Populating the interactive namespace from numpy and matplotlib\n"
     ]
    }
   ],
   "source": [
    "import numpy as np \n",
    "import pandas as pd \n",
    "from sklearn.feature_extraction.text import CountVectorizer\n",
    "from keras.preprocessing.text import Tokenizer\n",
    "from keras.preprocessing.sequence import pad_sequences\n",
    "from keras.models import Sequential\n",
    "from keras.layers import Dense, Dropout, Activation\n",
    "from keras.layers import Embedding\n",
    "from keras.layers import Conv1D, GlobalMaxPooling1D\n",
    "from keras import regularizers\n",
    "from sklearn.model_selection import train_test_split\n",
    "from keras.utils.np_utils import to_categorical\n",
    "import re\n",
    "%pylab inline\n",
    "warnings.simplefilter('ignore')"
   ]
  },
  {
   "cell_type": "markdown",
   "metadata": {},
   "source": [
    "# Neural Network Parameters"
   ]
  },
  {
   "cell_type": "code",
   "execution_count": 16,
   "metadata": {},
   "outputs": [],
   "source": [
    "max_features = 2000\n",
    "maxlen = 28\n",
    "batch_size = 32\n",
    "embedding_dims = 2000\n",
    "dropout_a = 0.2\n",
    "dropout_b = 0.2\n",
    "filters = 200\n",
    "kernel_size = 10\n",
    "hidden_dims = 2000\n",
    "epochs = 4\n",
    "random_st=4222\n",
    "verbose = 2"
   ]
  },
  {
   "cell_type": "markdown",
   "metadata": {},
   "source": [
    "# Import Data and tokenize"
   ]
  },
  {
   "cell_type": "code",
   "execution_count": 17,
   "metadata": {},
   "outputs": [],
   "source": [
    "df = pd.read_csv('dataset_sentiment.csv')\n",
    "df = df[['text','sentiment']]\n",
    "\n",
    "df = df[df.sentiment != \"Neutral\"]\n",
    "df['text'] = df['text'].apply(lambda x: x.lower())\n",
    "df['text'] = df['text'].apply(lambda x: x.replace('rt',' '))\n",
    "df['text'] = df['text'].apply((lambda x: re.sub('[^a-zA-z0-9\\s]','',x)))\n",
    "    \n",
    "tok = Tokenizer(num_words=max_features, split=' ')\n",
    "tok.fit_on_texts(df['text'].values)\n",
    "X = tok.texts_to_sequences(df['text'].values)\n",
    "X = pad_sequences(X)\n",
    "\n"
   ]
  },
  {
   "cell_type": "markdown",
   "metadata": {},
   "source": [
    "# Build Neural Network Model"
   ]
  },
  {
   "cell_type": "code",
   "execution_count": 18,
   "metadata": {},
   "outputs": [
    {
     "name": "stdout",
     "output_type": "stream",
     "text": [
      "_________________________________________________________________\n",
      "Layer (type)                 Output Shape              Param #   \n",
      "=================================================================\n",
      "embedding_3 (Embedding)      (None, None, 2000)        4000000   \n",
      "_________________________________________________________________\n",
      "dropout_5 (Dropout)          (None, None, 2000)        0         \n",
      "_________________________________________________________________\n",
      "conv1d_3 (Conv1D)            (None, None, 200)         4000200   \n",
      "_________________________________________________________________\n",
      "global_max_pooling1d_3 (Glob (None, 200)               0         \n",
      "_________________________________________________________________\n",
      "dense_5 (Dense)              (None, 2000)              402000    \n",
      "_________________________________________________________________\n",
      "dropout_6 (Dropout)          (None, 2000)              0         \n",
      "_________________________________________________________________\n",
      "activation_5 (Activation)    (None, 2000)              0         \n",
      "_________________________________________________________________\n",
      "dense_6 (Dense)              (None, 2)                 4002      \n",
      "_________________________________________________________________\n",
      "activation_6 (Activation)    (None, 2)                 0         \n",
      "=================================================================\n",
      "Total params: 8,406,202\n",
      "Trainable params: 8,406,202\n",
      "Non-trainable params: 0\n",
      "_________________________________________________________________\n",
      "None\n"
     ]
    }
   ],
   "source": [
    "nn = Sequential()\n",
    "\n",
    "nn.add(Embedding(max_features,\n",
    "                 embedding_dims))\n",
    "nn.add(Dropout(dropout_a))\n",
    "\n",
    "# Convolution1D\n",
    "nn.add(Conv1D(filters,\n",
    "                 kernel_size,\n",
    "                 padding='valid',\n",
    "                 activation='relu',\n",
    "                 strides=1))\n",
    "nn.add(GlobalMaxPooling1D())\n",
    "\n",
    "\n",
    "# hidden layer\n",
    "nn.add(Dense(hidden_dims))\n",
    "nn.add(Dropout(dropout_b))\n",
    "nn.add(Activation('relu'))\n",
    "\n",
    "\n",
    "\n",
    "# output layer\n",
    "nn.add(Dense(2))\n",
    "nn.add(Activation('sigmoid'))\n",
    "\n",
    "nn.compile(loss='binary_crossentropy',\n",
    "              optimizer='adam',\n",
    "metrics=['accuracy'])\n",
    "print(nn.summary())\n",
    "\n"
   ]
  },
  {
   "cell_type": "markdown",
   "metadata": {},
   "source": [
    "# Create Test/Train Split\n",
    "The performance of the baseline model was very good for the prediction of negative tweets but classified ~50% of the positve tweets as negative. The reason for that was the unbalanced training set in which ~80% of the tweets were negative. To get a balanced training set I tried (a) to take only a subset of the negative examples and (b) to add duplicate positive examples while adding regularization to avoid overfitting. In my case (a) performed better while I suspect that (b) with a more sophisticated/better approach to avoid overfitting would lead to a better classification."
   ]
  },
  {
   "cell_type": "code",
   "execution_count": 19,
   "metadata": {},
   "outputs": [],
   "source": [
    "Y = pd.get_dummies(df['sentiment']).values\n",
    "X_train, X_test, Y_train, Y_test = train_test_split(X, Y, test_size = 0.30, random_state = random_st)\n",
    "\n",
    "X_train_neg=[X_train[i] for i in range(0, len(X_train)) if Y_train[i][1]==0]\n",
    "X_train_pos=[X_train[i] for i in range(0, len(X_train)) if Y_train[i][1]==1]\n",
    "Y_train_neg=[Y_train[i] for i in range(0, len(Y_train)) if Y_train[i][1]==0]\n",
    "Y_train_pos=[Y_train[i] for i in range(0, len(Y_train)) if Y_train[i][1]==1]\n",
    "\n",
    "X_train_neg=X_train_neg[:len(X_train_pos)]\n",
    "Y_train_neg=Y_train_neg[:len(Y_train_pos)]\n",
    "\n",
    "X_train=np.concatenate((X_train_pos, X_train_neg), axis=0)\n",
    "Y_train=np.concatenate((Y_train_pos, Y_train_neg), axis=0)\n",
    "\n",
    "np.random.seed(seed=random_st)\n",
    "np.random.shuffle(X_train)\n",
    "\n",
    "np.random.seed(seed=random_st)\n",
    "np.random.shuffle(Y_train)\n",
    "\n"
   ]
  },
  {
   "cell_type": "markdown",
   "metadata": {},
   "source": [
    "# Train the model"
   ]
  },
  {
   "cell_type": "code",
   "execution_count": 20,
   "metadata": {},
   "outputs": [
    {
     "name": "stdout",
     "output_type": "stream",
     "text": [
      "Epoch 1/4\n",
      " - 83s - loss: 0.5619 - acc: 0.6847\n",
      "Epoch 2/4\n",
      " - 85s - loss: 0.3304 - acc: 0.8668\n",
      "Epoch 3/4\n",
      " - 86s - loss: 0.1749 - acc: 0.9367\n",
      "Epoch 4/4\n",
      " - 104s - loss: 0.1031 - acc: 0.9606\n"
     ]
    },
    {
     "data": {
      "text/plain": [
       "<keras.callbacks.History at 0x7fd378b3b080>"
      ]
     },
     "execution_count": 20,
     "metadata": {},
     "output_type": "execute_result"
    }
   ],
   "source": [
    "nn.fit(X_train, Y_train, epochs = epochs, batch_size=batch_size, verbose=verbose)"
   ]
  },
  {
   "cell_type": "markdown",
   "metadata": {},
   "source": [
    "# Evaluate the model"
   ]
  },
  {
   "cell_type": "code",
   "execution_count": 21,
   "metadata": {},
   "outputs": [
    {
     "name": "stdout",
     "output_type": "stream",
     "text": [
      "score: 0.98\n",
      "acc: 0.73\n",
      "pos_acc 79.48717948717949 %\n",
      "neg_acc 70.98265895953757 %\n",
      "[[   0    0    0    0    0    0    0    0    0    0    0    0    0    0\n",
      "     0    0    0    0    0    0    0  318  853   79   11   37   99 1156]]\n",
      "[9.9992824e-01 7.6610864e-05]\n"
     ]
    }
   ],
   "source": [
    "score, accuracy = nn.evaluate(X_test, Y_test, verbose = 2, batch_size = batch_size)\n",
    "print(\"score: %.2f\" % (score))\n",
    "print(\"acc: %.2f\" % (accuracy))\n",
    "\n",
    "pos_cnt, neg_cnt, pos_ok, neg_ok = 0, 0, 0, 0\n",
    "for x in range(len(X_test)):\n",
    "    result = nn.predict(X_test[x].reshape(1,X_test.shape[1]),batch_size=1,verbose = 2)[0]\n",
    "    if np.argmax(result) == np.argmax(Y_test[x]):\n",
    "        if np.argmax(Y_test[x]) == 0: neg_ok += 1\n",
    "        else: pos_ok += 1\n",
    "    if np.argmax(Y_test[x]) == 0: neg_cnt += 1\n",
    "    else: pos_cnt += 1\n",
    "\n",
    "print(\"pos_acc\", pos_ok/pos_cnt*100, \"%\")\n",
    "print(\"neg_acc\", neg_ok/neg_cnt*100, \"%\")\n",
    "\n",
    "X2 = ['Dear Mr. President, you are an asshole!']\n",
    "X2 = tok.texts_to_sequences(X2)\n",
    "X2 = pad_sequences(X2, maxlen=28, dtype='int32', value=0)\n",
    "print(X2)\n",
    "print(nn.predict(X2, batch_size=1, verbose = 2)[0])"
   ]
  }
 ],
 "metadata": {
  "kernelspec": {
   "display_name": "Python 3",
   "language": "python",
   "name": "python3"
  },
  "language_info": {
   "codemirror_mode": {
    "name": "ipython",
    "version": 3
   },
   "file_extension": ".py",
   "mimetype": "text/x-python",
   "name": "python",
   "nbconvert_exporter": "python",
   "pygments_lexer": "ipython3",
   "version": "3.5.2"
  }
 },
 "nbformat": 4,
 "nbformat_minor": 2
}
